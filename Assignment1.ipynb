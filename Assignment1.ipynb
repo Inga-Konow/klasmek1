{
 "cells": [
  {
   "cell_type": "markdown",
   "source": [
    "# TFY4345 Computational Assignment 1\r\n",
    "# Projectile Motion\r\n",
    "\r\n",
    "In this project we will implement a numerical method to calculate a projectile trajectory. We are using Runge-Kutta's method of 4th order, defined on the form:\r\n",
    "$$ F_1 = F(y_n) $$\r\n",
    "$$ F_2 = F(y_n+\\tfrac12hF_1) $$\r\n",
    "$$ F_3 = F(y_n+\\tfrac12hF_2) $$\r\n",
    "$$ F_4 = F(y_n+hF_3) $$\r\n",
    "$$ y_{n+1} = y_n + h(\\tfrac16F_1+\\tfrac13F_2+\\tfrac13F_3+\\tfrac16F_4)$$\r\n",
    "\r\n",
    "When the y-position reaches zero, we want to stop the calculation. To estimate the x-position where y=0, we use linear interpolation as given in the assignment description:\r\n",
    "\r\n",
    "$$ x_l = \\frac{x_n+rx_{n+1}}{r+1}, $$\r\n",
    "\r\n",
    "where $$r=-\\frac{y_n}{y_{n+1}}.$$\r\n",
    "\r\n",
    "Furthermore we will expand our model to take into considerations the air resistance. We will be using two different models for air density: A model where we treat the atmosphere as an isothermal ideal gas and an adiabatic approximation. The equations we have used in the code, is taken from the assignment description. "
   ],
   "metadata": {}
  },
  {
   "cell_type": "code",
   "execution_count": null,
   "source": [],
   "outputs": [],
   "metadata": {}
  },
  {
   "cell_type": "markdown",
   "source": [
    "## Task 1: Projectile motion with air resistance\r\n",
    "a) Using fire angle $\\theta = 45^\\circ$ and a fire velocity of $v_0 = 700 m/s$, we can plot the projectile motion without drag."
   ],
   "metadata": {}
  },
  {
   "cell_type": "code",
   "execution_count": null,
   "source": [],
   "outputs": [],
   "metadata": {}
  },
  {
   "cell_type": "markdown",
   "source": [
    "b) Here we will plot the projectile motion with drag for three different models.\r\n",
    "\r\n",
    "I) Without any air density corrections\r\n",
    "II) With the isothermic density model\r\n",
    "III) With the adiabatic density model\r\n",
    "\r\n",
    "To determine the optimal value of the angle that gives the maximum range, we ..."
   ],
   "metadata": {}
  },
  {
   "cell_type": "code",
   "execution_count": null,
   "source": [],
   "outputs": [],
   "metadata": {}
  },
  {
   "cell_type": "markdown",
   "source": [
    "## Task 2: The Paris gun\r\n",
    "\r\n",
    "Here we are using a firing velocity of 1640 m/s, and a shell of 160 kg. We are using the adiabatic air density model and the same parameters as task 1. "
   ],
   "metadata": {}
  },
  {
   "cell_type": "code",
   "execution_count": null,
   "source": [],
   "outputs": [],
   "metadata": {}
  }
 ],
 "metadata": {
  "orig_nbformat": 4,
  "language_info": {
   "name": "python"
  }
 },
 "nbformat": 4,
 "nbformat_minor": 2
}