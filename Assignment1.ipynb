{
 "cells": [
  {
   "cell_type": "markdown",
   "metadata": {},
   "source": [
    "# TFY4345 Computational Assignment 1\n",
    "# Projectile Motion\n",
    "\n",
    "In this project we will implement a numerical method to calculate a projectile trajectory. We are using Runge-Kutta's method of 4th order, defined on the form:\n",
    "$$ F_1 = F(y_n) $$\n",
    "$$ F_2 = F(y_n+\\tfrac12hF_1) $$\n",
    "$$ F_3 = F(y_n+\\tfrac12hF_2) $$\n",
    "$$ F_4 = F(y_n+hF_3) $$\n",
    "$$ y_{n+1} = y_n + h(\\tfrac16F_1+\\tfrac13F_2+\\tfrac13F_3+\\tfrac16F_4)$$\n",
    "\n",
    "When the y-position reaches zero, we want to stop the calculation. To estimate the x-position where y=0, we use linear interpolation as given in the assignment description:\n",
    "\n",
    "$$ x_l = \\frac{x_n+rx_{n+1}}{r+1}, $$\n",
    "\n",
    "where $$r=-\\frac{y_n}{y_{n+1}}.$$\n",
    "\n",
    "Furthermore we will expand our model to take into considerations the air resistance. We will be using two different models for air density: A model where we treat the atmosphere as an isothermal ideal gas and an adiabatic approximation. The equations we have used in the code, is taken from the assignment description. "
   ]
  },
  {
   "cell_type": "code",
   "execution_count": 21,
   "metadata": {},
   "outputs": [],
   "source": [
    "from __future__ import annotations\n",
    "import matplotlib.pyplot as plt\n",
    "import numpy as np\n",
    "from enum import Enum\n",
    "\n",
    "#Here are the code that defines the system, with constants and classes. \n",
    "\n",
    "\n",
    "#Constants and parameters:\n",
    "\n",
    "v_0 = 700  # firing velocity in m/s\n",
    "theta = 30  # firing angle in degrees\n",
    "\n",
    "a = 6.5e-3  # constant in adiabatic approximation?\n",
    "T0 = 288\n",
    "y_0 = 1e4  # k_B*T/mg\n",
    "alfa = 2.5  # constant for air\n",
    "drag_coefficient = 4e-5  # per air particle mass, in m^-1#!/usr/bin/python\n",
    "g = 9.81\n",
    "\n",
    "y0 = 1e4\n",
    "\n",
    "from typing import Callable, Tuple, NamedTuple, Union, List\n",
    "\n",
    "def RK4(f: Callable[[any,float], float], y: any, t: float, dt: float) -> Tuple[any, float]:\n",
    "\tk_1 = f(y, t)\n",
    "\tk_2 = f(y+k_1*dt/2, t+dt/2)\n",
    "\tk_3 = f(y+k_2*dt/2, t+dt/2)\n",
    "\tk_4 = f(y+k_3*dt, t+dt)\n",
    "\ty_next = y + 1/6*(k_1+2*k_2+2*k_3+k_4)*dt\n",
    "\treturn y_next, t+dt\n",
    "\n",
    "\n",
    "def Euler(f: Callable[[any, float], float], y:any, t:float, dt:float) -> Tuple[any, float]:\n",
    "\tk_1 = f(y, t)\n",
    "\ty_next = y + k_1*dt\n",
    "\treturn y_next, t+dt\n",
    "\n",
    "\n",
    "def crossing(ph_1: Phase, ph_2: Phase, y_crossing: float) -> Union[float, bool]:\n",
    "\tif not ((ph_1.y < y_crossing) ^ (ph_2.y < y_crossing)):\n",
    "\t\treturn False\n",
    "\tr = -ph_1.y/ph_2.y\n",
    "\treturn (r*ph_2.x + ph_1.x)/(r+1)\n",
    "\n",
    "\n",
    "class Phase(NamedTuple):\n",
    "\tx: float\n",
    "\ty: float\n",
    "\tv_x: float\n",
    "\tv_y: float\n",
    "\n",
    "\tdef speed(self):\n",
    "\t\treturn np.sqrt(self.v_x**2+self.v_y**2)\n",
    "\n",
    "\tdef __add__(self, rhs: Phase):\n",
    "\t\treturn Phase(*[l+r for l,r in zip(self, rhs)])\n",
    "\n",
    "\tdef __radd__(self, lhs: Phase):\n",
    "\t\treturn self + lhs\n",
    "\n",
    "\tdef __mul__(self, rhs:float):\n",
    "\t\treturn Phase(*[l*rhs for l in self])\n",
    "\n",
    "\tdef __rmul__(self, lhs:float):\n",
    "\t\treturn self*lhs\n",
    "\n",
    "\tdef __truediv__(self, rhs:float):\n",
    "\t\treturn self*(1/rhs)\n",
    "\n",
    "\n",
    "class Drag_type(Enum):\n",
    "\tNODRAG = \"No drag\"\n",
    "\tUNIFORM = \"Uniform drag\"\n",
    "\tISOTHERMAL = \"Isothermal drag\"\n",
    "\tADIABATIC = \"Adiabatic drag\"\n",
    "\n",
    "\n",
    "\n",
    "\n",
    "\n",
    "def phase_derivative_drag(ph: Phase, t: float, drag_multiplier=1):\n",
    "\t'''Derivative-equation including drag, which allows for a atmosphere-specificdrag_multiplier'''\n",
    "\t#Friction points in negative-v-direction with size B*v^2, where\n",
    "\t# B/m = drag_coefficient, so the acceleration caused\n",
    "\t#  by friction is given by drag_coefficient * v * (-v-vector)\n",
    "\tdrag_factor = drag_coefficient*ph.speed()*drag_multiplier  #\n",
    "\treturn Phase(ph.v_x, ph.v_y, -drag_factor*ph.v_x, -drag_factor*ph.v_y-g)\n",
    "\n",
    "def phase_derivative_nodrag(ph: Phase, t: float):\n",
    "\t'''Basic derivative-equation without drag'''\n",
    "\treturn Phase(ph.v_x, ph.v_y, 0, -g)\n",
    "\n",
    "def phase_derivative_isothermal_drag(ph: Phase, t: float):\n",
    "\t'''Basic derivative-equation with isothermal atmosphere drag'''\n",
    "\tdrag_multiplier = np.exp(-ph.y/y0)\n",
    "\treturn phase_derivative_drag(ph, t, drag_multiplier)\n",
    "\n",
    "def phase_derivative_uniform_drag(ph: Phase, t: float):\n",
    "\t'''Basic derivative-equation with uniform atmosphere drag'''\n",
    "\treturn phase_derivative_drag(ph, t)\n",
    "\n",
    "def phase_derivative_adiabatic_drag(ph: Phase, t: float):\n",
    "\t'''Basic derivative-equation with adiabatic atmosphere drag'''\n",
    "\tinside_constant=1-6.5e-3*ph.y/T0\n",
    "\tinside_constant = max(inside_constant,0)\n",
    "\tdrag_multiplier = (inside_constant)**alfa\n",
    "\treturn phase_derivative_drag(ph, t, drag_multiplier)\n",
    "\n",
    "def phase_prime_method(drag_type:Drag_type=Drag_type.NODRAG):\n",
    "\tif drag_type is Drag_type.NODRAG: return phase_derivative_nodrag\n",
    "\telif drag_type is Drag_type.UNIFORM: return phase_derivative_uniform_drag\n",
    "\telif drag_type is Drag_type.ISOTHERMAL: return phase_derivative_isothermal_drag\n",
    "\telif drag_type is Drag_type.ADIABATIC: return phase_derivative_adiabatic_drag\n",
    "\telse:\n",
    "\t\traise Exception(\"How did you get here?\")\n",
    "\n",
    "\n",
    "class SYS:\n",
    "\tphases: List[Phase]\n",
    "\tcrash_distance: Union[None, float]\n",
    "\ttime_of_flight: float\n",
    "\tdef __init__(self, init_phase:Phase, init_time:float=0,\n",
    "\t\t\t\t drag_type:Drag_type=Drag_type.NODRAG):\n",
    "\t\tself.phases = [init_phase]\n",
    "\t\tself.times = [init_time]\n",
    "\t\tself.crash_distance = None\n",
    "\n",
    "\t\tself.prop_method = phase_prime_method(drag_type)\n",
    "\n",
    "\tdef propagate_until_crash(self, y_floor:float, dt=1):\n",
    "\t\twhile True:\n",
    "\t\t\tcurrent_phase = self.phases[-1]\n",
    "\t\t\tt = self.times[-1]\n",
    "\t\t\tnext_phase, t_next = RK4(self.prop_method, current_phase, t, dt)\n",
    "\t\t\tif (x_cross := crossing(current_phase, next_phase, y_floor)) is False:\n",
    "\t\t\t\tself.phases.append(next_phase)\n",
    "\t\t\t\tself.times.append(t_next)\n",
    "\t\t\t\tcontinue\n",
    "\t\t\tself.crash_distance = x_cross\n",
    "\t\t\tself.time_of_flight = t_next\n",
    "\t\t\tbreak\n",
    "\n",
    "\n",
    "def polar_to_cartesian(abs_val: float, theta: float):\n",
    "\treturn abs_val*np.cos(theta), abs_val*np.sin(theta)"
   ]
  },
  {
   "cell_type": "markdown",
   "metadata": {},
   "source": [
    "## Task 1: Projectile motion with air resistance\n",
    "a) Using fire angle $\\theta = 45^\\circ$ and a fire velocity of $v_0 = 700 m/s$, we can plot the projectile motion without drag.\n",
    "\n",
    "We also want to solve the equationset:\n",
    "$$\\frac{d^2x}{dt^2}=0$$\n",
    "$$\\frac{d^2y}{dt^2}=-g,$$\n",
    "\n",
    "to get an analytical answer. This gives:\n",
    "$$x=v_x\\cdot\\Delta t$$\n",
    "$$y=v_y\\cdot\\Delta t -\\frac12g\\Delta t^2,$$\n",
    "\n",
    "where we have\n",
    "\n",
    "$$v_x=v_0\\cdot cos\\theta$$\n",
    "$$v_y=v_0\\cdot sin\\theta.$$\n",
    "\n",
    "Setting the equation for y equal to zero, we get that the projectile reaches the ground at $t=100.912s$, which gives $x \\approx 49949.03 m$. Our numerical solution with timestep $\\Delta t=0.1$ gives $x\\approx 49949.03$, which is a very good solution compared to our analytical result. Smaller timesteps would naturally give an even more accurate solution, and we have checked for $\\Delta t=1$, $\\Delta t=0.1$ and $\\Delta t=0.001$, to see that the numerical solution converges to the analytical."
   ]
  },
  {
   "cell_type": "code",
   "execution_count": 22,
   "metadata": {},
   "outputs": [
    {
     "data": {
      "image/png": "[encoded data removed]",
      "text/plain": [
       "<Figure size 432x288 with 1 Axes>"
      ]
     },
     "metadata": {
      "needs_background": "light"
     },
     "output_type": "display_data"
    },
    {
     "name": "stdout",
     "output_type": "stream",
     "text": [
      "The projectile range is 49949.03\n"
     ]
    }
   ],
   "source": [
    "v = 700\n",
    "fig, ax = plt.subplots(1,1)\n",
    "initial_phase = Phase(0, 0, *polar_to_cartesian(v, np.pi/4))\n",
    "launch = SYS(initial_phase, drag_type=Drag_type.NODRAG)\n",
    "launch.propagate_until_crash(y_floor=0, dt=1e-1)\n",
    "phases = launch.phases\n",
    "xs, ys, vxs, vys = np.array(phases).T\n",
    "ax.plot(xs, ys, label=\"No drag\")\n",
    "ax.legend()\n",
    "ax.set_xlabel(r\"$x$\")\n",
    "ax.set_ylabel(r\"$y$\")\n",
    "plt.show()\n",
    "\n",
    "print(f\"The projectile range is {launch.crash_distance:.7g}\")"
   ]
  },
  {
   "cell_type": "markdown",
   "metadata": {},
   "source": [
    "b) Here we will plot the projectile motion with drag for three different models.\n",
    "\n",
    "I) Without any air density corrections  \n",
    "II) With the isothermic density model  \n",
    "III) With the adiabatic density model\n",
    "\n",
    "To determine the optimal value of the angle that gives the maximum range, we check for different thetas and see which value gives the best range. "
   ]
  },
  {
   "cell_type": "code",
   "execution_count": 23,
   "metadata": {},
   "outputs": [
    {
     "name": "stdout",
     "output_type": "stream",
     "text": [
      "Maximal angle for no drag at 700 m/s is 44.55, which gives a range of 49952.9 m\n",
      "Maximal angle for uniform drag at 700 m/s is 39.09, which gives a range of 22063.2 m\n",
      "Maximal angle for isothermal drag at 700 m/s is 46.36, which gives a range of 26618.8 m\n",
      "Maximal angle for adiabatic drag at 700 m/s is 43.64, which gives a range of 24640.1 m\n"
     ]
    }
   ],
   "source": [
    "v = 700\n",
    "crashes = []\n",
    "thetas = np.linspace(0,90,100)\n",
    "for drag_type in [Drag_type.NODRAG, Drag_type.UNIFORM,\n",
    "                    Drag_type.ISOTHERMAL, Drag_type.ADIABATIC]:\n",
    "    single_crash = []\n",
    "    for theta in thetas:\n",
    "        theta *= np.pi / 180\n",
    "        init_phase = Phase(0, 10, *polar_to_cartesian(v, theta))\n",
    "        sys = SYS(init_phase, 0, drag_type=drag_type)\n",
    "        sys.propagate_until_crash(y_floor=0, dt=1e-1)\n",
    "        single_crash.append(sys.crash_distance)\n",
    "    arg = np.argmax(single_crash)\n",
    "    print(f\"Maximal angle for {drag_type.value.lower()} at 700 m/s is {thetas[arg]:.4g}, which gives a range of {single_crash[arg]:.6g} m\")"
   ]
  },
  {
   "cell_type": "markdown",
   "metadata": {},
   "source": [
    "We then plot each of the models with their respective optimal angle $\\theta$."
   ]
  },
  {
   "cell_type": "code",
   "execution_count": 24,
   "metadata": {},
   "outputs": [
    {
     "name": "stdout",
     "output_type": "stream",
     "text": [
      "The projectile range for uniform drag is 22056.72777034862 m\n",
      "The projectile range for isothermal drag is 26599.842231073646 m\n",
      "The projectile range for adiabatic drag is 24626.281068961674 m\n"
     ]
    },
    {
     "data": {
      "image/png": "[encoded data removed]",
      "text/plain": [
       "<Figure size 432x288 with 1 Axes>"
      ]
     },
     "metadata": {
      "needs_background": "light"
     },
     "output_type": "display_data"
    }
   ],
   "source": [
    "angles = [39.09,46.36,43.64]\n",
    "v = 700\n",
    "fig, ax = plt.subplots(1,1)\n",
    "i=0\n",
    "for drag_type in [Drag_type.UNIFORM, Drag_type.ISOTHERMAL, Drag_type.ADIABATIC]:\n",
    "    initial_phase = Phase(0, 0, *polar_to_cartesian(v, angles[i]*np.pi/180))\n",
    "    launch = SYS(initial_phase, drag_type=drag_type)\n",
    "    launch.propagate_until_crash(y_floor=0, dt=1e-1)\n",
    "    phases = launch.phases\n",
    "    xs, ys, vxs, vys = np.array(phases).T\n",
    "    ax.plot(xs, ys, label=drag_type.value)\n",
    "    ax.legend()\n",
    "    ax.set_xlabel(r\"$x$\")\n",
    "    ax.set_ylabel(r\"$y$\")\n",
    "    print(f\"The projectile range for {drag_type.value.lower()} is {launch.crash_distance} m\")\n",
    "    i+=1\n",
    "plt.show()"
   ]
  },
  {
   "cell_type": "markdown",
   "metadata": {},
   "source": [
    "## Task 2: The Paris gun\n",
    "\n",
    "Here we are using a firing velocity of 1640 m/s, and a shell of 160 kg. We are using the adiabatic air density model and the same parameters as task 1. We first want to calculate the optimal firing angle.  "
   ]
  },
  {
   "cell_type": "code",
   "execution_count": 25,
   "metadata": {},
   "outputs": [
    {
     "name": "stdout",
     "output_type": "stream",
     "text": [
      "Optimal angle for adiabatic drag at 1640 m/s is 55.45, which gives a range of 81962.2 m\n"
     ]
    }
   ],
   "source": [
    "v = 1640\n",
    "crashes = []\n",
    "thetas = np.linspace(0,90,100)\n",
    "single_crash = []\n",
    "for theta in thetas:\n",
    "    theta*= np.pi / 180\n",
    "    init_phase = Phase(0, 10, *polar_to_cartesian(v, theta))\n",
    "    sys = SYS(init_phase, 0, Drag_type.ADIABATIC)\n",
    "    sys.propagate_until_crash(y_floor=0, dt=1e-1)\n",
    "    single_crash.append(sys.crash_distance)\n",
    "arg = np.argmax(single_crash)\n",
    "theta_max = thetas[arg]\n",
    "print(f\"Optimal angle for {drag_type.value.lower()} at 1640 m/s is {theta_max:.4g}, which gives a range of {single_crash[arg]:.6g} m\")"
   ]
  },
  {
   "cell_type": "markdown",
   "metadata": {},
   "source": [
    "We have found that the optimal firing angle for the adiabatic air density model is $55.45^\\circ$, which is the same as  0.968 radians. We then plot the trajectory and find the maximal height and time of flight. "
   ]
  },
  {
   "cell_type": "code",
   "execution_count": 26,
   "metadata": {},
   "outputs": [
    {
     "data": {
      "image/png": "[encoded data removed]",
      "text/plain": [
       "<Figure size 432x288 with 1 Axes>"
      ]
     },
     "metadata": {
      "needs_background": "light"
     },
     "output_type": "display_data"
    },
    {
     "name": "stdout",
     "output_type": "stream",
     "text": [
      "The projectile range is 81889.01 m\n",
      "The time of flight was 169.9 s\n",
      "The maximum height of the projectile was 35141.558192159304 m\n"
     ]
    }
   ],
   "source": [
    "v = 1640\n",
    "fig, ax = plt.subplots(1,1)\n",
    "initial_phase = Phase(0, 0, *polar_to_cartesian(v, theta_max*np.pi/180))\n",
    "launch = SYS(initial_phase, drag_type=Drag_type.ADIABATIC)\n",
    "launch.propagate_until_crash(y_floor=0, dt=1e-1)\n",
    "phases = launch.phases\n",
    "xs, ys, vxs, vys = np.array(phases).T\n",
    "ax.plot(xs, ys, label=\"The Paris gun\")\n",
    "ax.legend()\n",
    "ax.set_xlabel(r\"$x$\")\n",
    "ax.set_ylabel(r\"$y$\")\n",
    "plt.show()\n",
    "print(f\"The projectile range is {launch.crash_distance:.7g} m\")\n",
    "print(f\"The time of flight was {launch.time_of_flight:.1f} s\")\n",
    "print(f\"The maximum height of the projectile was {max(ys):.7g} m\")"
   ]
  },
  {
   "cell_type": "code",
   "execution_count": null,
   "metadata": {},
   "outputs": [],
   "source": []
  }
 ],
 "metadata": {
  "interpreter": {
   "hash": "759e96ea9912365def0d713e0e24bc5229927ae8541c64ccc512c99329b0aa8c"
  },
  "kernelspec": {
   "display_name": "Python 3",
   "language": "python",
   "name": "python3"
  },
  "language_info": {
   "codemirror_mode": {
    "name": "ipython",
    "version": 3
   },
   "file_extension": ".py",
   "mimetype": "text/x-python",
   "name": "python",
   "nbconvert_exporter": "python",
   "pygments_lexer": "ipython3",
   "version": "3.8.3"
  }
 },
 "nbformat": 4,
 "nbformat_minor": 2
}
